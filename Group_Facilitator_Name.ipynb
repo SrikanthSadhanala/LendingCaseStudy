{
  "nbformat": 4,
  "nbformat_minor": 0,
  "metadata": {
    "colab": {
      "provenance": []
    },
    "kernelspec": {
      "name": "python3",
      "display_name": "Python 3"
    },
    "language_info": {
      "name": "python"
    }
  },
  "cells": [
    {
      "cell_type": "markdown",
      "source": [
        "**Importing required libraries**"
      ],
      "metadata": {
        "id": "OWTLmYASEql6"
      }
    },
    {
      "cell_type": "code",
      "execution_count": 78,
      "metadata": {
        "id": "46bEHwXteNa1"
      },
      "outputs": [],
      "source": [
        "import matplotlib.pyplot as plt\n",
        "import numpy as np\n",
        "import pandas as pd\n",
        "from google.colab import drive\n",
        "import seaborn as sns"
      ]
    },
    {
      "cell_type": "markdown",
      "source": [
        "**Connecting to google drive to access the file, where the data is saved.**"
      ],
      "metadata": {
        "id": "z5LRy1IqIkTE"
      }
    },
    {
      "cell_type": "code",
      "source": [
        "drive.mount('/content/drive')"
      ],
      "metadata": {
        "id": "wytmg0kbe1tp",
        "colab": {
          "base_uri": "https://localhost:8080/"
        },
        "outputId": "b96a97ce-e83b-4232-e823-5f4b16f5bbbb"
      },
      "execution_count": 79,
      "outputs": [
        {
          "output_type": "stream",
          "name": "stdout",
          "text": [
            "Drive already mounted at /content/drive; to attempt to forcibly remount, call drive.mount(\"/content/drive\", force_remount=True).\n"
          ]
        }
      ]
    },
    {
      "cell_type": "markdown",
      "source": [
        "**Accessing the csv file where the loan details are saved.**"
      ],
      "metadata": {
        "id": "-hi2YpasE83X"
      }
    },
    {
      "cell_type": "code",
      "source": [
        "loan_data = pd.read_csv('drive/MyDrive/Samples/AI ML/Module 2/loan.csv')\n",
        "loan_data.head()"
      ],
      "metadata": {
        "id": "HHyJjqswe9O_",
        "colab": {
          "base_uri": "https://localhost:8080/",
          "height": 421
        },
        "outputId": "f90743c5-70e4-4ce1-afab-869e66f92700"
      },
      "execution_count": 80,
      "outputs": [
        {
          "output_type": "stream",
          "name": "stderr",
          "text": [
            "<ipython-input-80-29b69ffc9acf>:1: DtypeWarning: Columns (47) have mixed types. Specify dtype option on import or set low_memory=False.\n",
            "  loan_data = pd.read_csv('drive/MyDrive/Samples/AI ML/Module 2/loan.csv')\n"
          ]
        },
        {
          "output_type": "execute_result",
          "data": {
            "text/plain": [
              "        id  member_id  loan_amnt  funded_amnt  funded_amnt_inv        term  \\\n",
              "0  1077501    1296599       5000         5000           4975.0   36 months   \n",
              "1  1077430    1314167       2500         2500           2500.0   60 months   \n",
              "2  1077175    1313524       2400         2400           2400.0   36 months   \n",
              "3  1076863    1277178      10000        10000          10000.0   36 months   \n",
              "4  1075358    1311748       3000         3000           3000.0   60 months   \n",
              "\n",
              "  int_rate  installment grade sub_grade  ... num_tl_90g_dpd_24m  \\\n",
              "0   10.65%       162.87     B        B2  ...                NaN   \n",
              "1   15.27%        59.83     C        C4  ...                NaN   \n",
              "2   15.96%        84.33     C        C5  ...                NaN   \n",
              "3   13.49%       339.31     C        C1  ...                NaN   \n",
              "4   12.69%        67.79     B        B5  ...                NaN   \n",
              "\n",
              "  num_tl_op_past_12m pct_tl_nvr_dlq  percent_bc_gt_75 pub_rec_bankruptcies  \\\n",
              "0                NaN            NaN               NaN                  0.0   \n",
              "1                NaN            NaN               NaN                  0.0   \n",
              "2                NaN            NaN               NaN                  0.0   \n",
              "3                NaN            NaN               NaN                  0.0   \n",
              "4                NaN            NaN               NaN                  0.0   \n",
              "\n",
              "  tax_liens tot_hi_cred_lim total_bal_ex_mort total_bc_limit  \\\n",
              "0       0.0             NaN               NaN            NaN   \n",
              "1       0.0             NaN               NaN            NaN   \n",
              "2       0.0             NaN               NaN            NaN   \n",
              "3       0.0             NaN               NaN            NaN   \n",
              "4       0.0             NaN               NaN            NaN   \n",
              "\n",
              "  total_il_high_credit_limit  \n",
              "0                        NaN  \n",
              "1                        NaN  \n",
              "2                        NaN  \n",
              "3                        NaN  \n",
              "4                        NaN  \n",
              "\n",
              "[5 rows x 111 columns]"
            ],
            "text/html": [
              "\n",
              "\n",
              "  <div id=\"df-73a27c10-a211-4611-b183-a71cedfe8b50\">\n",
              "    <div class=\"colab-df-container\">\n",
              "      <div>\n",
              "<style scoped>\n",
              "    .dataframe tbody tr th:only-of-type {\n",
              "        vertical-align: middle;\n",
              "    }\n",
              "\n",
              "    .dataframe tbody tr th {\n",
              "        vertical-align: top;\n",
              "    }\n",
              "\n",
              "    .dataframe thead th {\n",
              "        text-align: right;\n",
              "    }\n",
              "</style>\n",
              "<table border=\"1\" class=\"dataframe\">\n",
              "  <thead>\n",
              "    <tr style=\"text-align: right;\">\n",
              "      <th></th>\n",
              "      <th>id</th>\n",
              "      <th>member_id</th>\n",
              "      <th>loan_amnt</th>\n",
              "      <th>funded_amnt</th>\n",
              "      <th>funded_amnt_inv</th>\n",
              "      <th>term</th>\n",
              "      <th>int_rate</th>\n",
              "      <th>installment</th>\n",
              "      <th>grade</th>\n",
              "      <th>sub_grade</th>\n",
              "      <th>...</th>\n",
              "      <th>num_tl_90g_dpd_24m</th>\n",
              "      <th>num_tl_op_past_12m</th>\n",
              "      <th>pct_tl_nvr_dlq</th>\n",
              "      <th>percent_bc_gt_75</th>\n",
              "      <th>pub_rec_bankruptcies</th>\n",
              "      <th>tax_liens</th>\n",
              "      <th>tot_hi_cred_lim</th>\n",
              "      <th>total_bal_ex_mort</th>\n",
              "      <th>total_bc_limit</th>\n",
              "      <th>total_il_high_credit_limit</th>\n",
              "    </tr>\n",
              "  </thead>\n",
              "  <tbody>\n",
              "    <tr>\n",
              "      <th>0</th>\n",
              "      <td>1077501</td>\n",
              "      <td>1296599</td>\n",
              "      <td>5000</td>\n",
              "      <td>5000</td>\n",
              "      <td>4975.0</td>\n",
              "      <td>36 months</td>\n",
              "      <td>10.65%</td>\n",
              "      <td>162.87</td>\n",
              "      <td>B</td>\n",
              "      <td>B2</td>\n",
              "      <td>...</td>\n",
              "      <td>NaN</td>\n",
              "      <td>NaN</td>\n",
              "      <td>NaN</td>\n",
              "      <td>NaN</td>\n",
              "      <td>0.0</td>\n",
              "      <td>0.0</td>\n",
              "      <td>NaN</td>\n",
              "      <td>NaN</td>\n",
              "      <td>NaN</td>\n",
              "      <td>NaN</td>\n",
              "    </tr>\n",
              "    <tr>\n",
              "      <th>1</th>\n",
              "      <td>1077430</td>\n",
              "      <td>1314167</td>\n",
              "      <td>2500</td>\n",
              "      <td>2500</td>\n",
              "      <td>2500.0</td>\n",
              "      <td>60 months</td>\n",
              "      <td>15.27%</td>\n",
              "      <td>59.83</td>\n",
              "      <td>C</td>\n",
              "      <td>C4</td>\n",
              "      <td>...</td>\n",
              "      <td>NaN</td>\n",
              "      <td>NaN</td>\n",
              "      <td>NaN</td>\n",
              "      <td>NaN</td>\n",
              "      <td>0.0</td>\n",
              "      <td>0.0</td>\n",
              "      <td>NaN</td>\n",
              "      <td>NaN</td>\n",
              "      <td>NaN</td>\n",
              "      <td>NaN</td>\n",
              "    </tr>\n",
              "    <tr>\n",
              "      <th>2</th>\n",
              "      <td>1077175</td>\n",
              "      <td>1313524</td>\n",
              "      <td>2400</td>\n",
              "      <td>2400</td>\n",
              "      <td>2400.0</td>\n",
              "      <td>36 months</td>\n",
              "      <td>15.96%</td>\n",
              "      <td>84.33</td>\n",
              "      <td>C</td>\n",
              "      <td>C5</td>\n",
              "      <td>...</td>\n",
              "      <td>NaN</td>\n",
              "      <td>NaN</td>\n",
              "      <td>NaN</td>\n",
              "      <td>NaN</td>\n",
              "      <td>0.0</td>\n",
              "      <td>0.0</td>\n",
              "      <td>NaN</td>\n",
              "      <td>NaN</td>\n",
              "      <td>NaN</td>\n",
              "      <td>NaN</td>\n",
              "    </tr>\n",
              "    <tr>\n",
              "      <th>3</th>\n",
              "      <td>1076863</td>\n",
              "      <td>1277178</td>\n",
              "      <td>10000</td>\n",
              "      <td>10000</td>\n",
              "      <td>10000.0</td>\n",
              "      <td>36 months</td>\n",
              "      <td>13.49%</td>\n",
              "      <td>339.31</td>\n",
              "      <td>C</td>\n",
              "      <td>C1</td>\n",
              "      <td>...</td>\n",
              "      <td>NaN</td>\n",
              "      <td>NaN</td>\n",
              "      <td>NaN</td>\n",
              "      <td>NaN</td>\n",
              "      <td>0.0</td>\n",
              "      <td>0.0</td>\n",
              "      <td>NaN</td>\n",
              "      <td>NaN</td>\n",
              "      <td>NaN</td>\n",
              "      <td>NaN</td>\n",
              "    </tr>\n",
              "    <tr>\n",
              "      <th>4</th>\n",
              "      <td>1075358</td>\n",
              "      <td>1311748</td>\n",
              "      <td>3000</td>\n",
              "      <td>3000</td>\n",
              "      <td>3000.0</td>\n",
              "      <td>60 months</td>\n",
              "      <td>12.69%</td>\n",
              "      <td>67.79</td>\n",
              "      <td>B</td>\n",
              "      <td>B5</td>\n",
              "      <td>...</td>\n",
              "      <td>NaN</td>\n",
              "      <td>NaN</td>\n",
              "      <td>NaN</td>\n",
              "      <td>NaN</td>\n",
              "      <td>0.0</td>\n",
              "      <td>0.0</td>\n",
              "      <td>NaN</td>\n",
              "      <td>NaN</td>\n",
              "      <td>NaN</td>\n",
              "      <td>NaN</td>\n",
              "    </tr>\n",
              "  </tbody>\n",
              "</table>\n",
              "<p>5 rows × 111 columns</p>\n",
              "</div>\n",
              "      <button class=\"colab-df-convert\" onclick=\"convertToInteractive('df-73a27c10-a211-4611-b183-a71cedfe8b50')\"\n",
              "              title=\"Convert this dataframe to an interactive table.\"\n",
              "              style=\"display:none;\">\n",
              "\n",
              "  <svg xmlns=\"http://www.w3.org/2000/svg\" height=\"24px\"viewBox=\"0 0 24 24\"\n",
              "       width=\"24px\">\n",
              "    <path d=\"M0 0h24v24H0V0z\" fill=\"none\"/>\n",
              "    <path d=\"M18.56 5.44l.94 2.06.94-2.06 2.06-.94-2.06-.94-.94-2.06-.94 2.06-2.06.94zm-11 1L8.5 8.5l.94-2.06 2.06-.94-2.06-.94L8.5 2.5l-.94 2.06-2.06.94zm10 10l.94 2.06.94-2.06 2.06-.94-2.06-.94-.94-2.06-.94 2.06-2.06.94z\"/><path d=\"M17.41 7.96l-1.37-1.37c-.4-.4-.92-.59-1.43-.59-.52 0-1.04.2-1.43.59L10.3 9.45l-7.72 7.72c-.78.78-.78 2.05 0 2.83L4 21.41c.39.39.9.59 1.41.59.51 0 1.02-.2 1.41-.59l7.78-7.78 2.81-2.81c.8-.78.8-2.07 0-2.86zM5.41 20L4 18.59l7.72-7.72 1.47 1.35L5.41 20z\"/>\n",
              "  </svg>\n",
              "      </button>\n",
              "\n",
              "\n",
              "\n",
              "    <div id=\"df-f717be0a-bace-49f9-8fd0-7cdb1cada664\">\n",
              "      <button class=\"colab-df-quickchart\" onclick=\"quickchart('df-f717be0a-bace-49f9-8fd0-7cdb1cada664')\"\n",
              "              title=\"Suggest charts.\"\n",
              "              style=\"display:none;\">\n",
              "\n",
              "<svg xmlns=\"http://www.w3.org/2000/svg\" height=\"24px\"viewBox=\"0 0 24 24\"\n",
              "     width=\"24px\">\n",
              "    <g>\n",
              "        <path d=\"M19 3H5c-1.1 0-2 .9-2 2v14c0 1.1.9 2 2 2h14c1.1 0 2-.9 2-2V5c0-1.1-.9-2-2-2zM9 17H7v-7h2v7zm4 0h-2V7h2v10zm4 0h-2v-4h2v4z\"/>\n",
              "    </g>\n",
              "</svg>\n",
              "      </button>\n",
              "    </div>\n",
              "\n",
              "<style>\n",
              "  .colab-df-quickchart {\n",
              "    background-color: #E8F0FE;\n",
              "    border: none;\n",
              "    border-radius: 50%;\n",
              "    cursor: pointer;\n",
              "    display: none;\n",
              "    fill: #1967D2;\n",
              "    height: 32px;\n",
              "    padding: 0 0 0 0;\n",
              "    width: 32px;\n",
              "  }\n",
              "\n",
              "  .colab-df-quickchart:hover {\n",
              "    background-color: #E2EBFA;\n",
              "    box-shadow: 0px 1px 2px rgba(60, 64, 67, 0.3), 0px 1px 3px 1px rgba(60, 64, 67, 0.15);\n",
              "    fill: #174EA6;\n",
              "  }\n",
              "\n",
              "  [theme=dark] .colab-df-quickchart {\n",
              "    background-color: #3B4455;\n",
              "    fill: #D2E3FC;\n",
              "  }\n",
              "\n",
              "  [theme=dark] .colab-df-quickchart:hover {\n",
              "    background-color: #434B5C;\n",
              "    box-shadow: 0px 1px 3px 1px rgba(0, 0, 0, 0.15);\n",
              "    filter: drop-shadow(0px 1px 2px rgba(0, 0, 0, 0.3));\n",
              "    fill: #FFFFFF;\n",
              "  }\n",
              "</style>\n",
              "\n",
              "    <script>\n",
              "      async function quickchart(key) {\n",
              "        const containerElement = document.querySelector('#' + key);\n",
              "        const charts = await google.colab.kernel.invokeFunction(\n",
              "            'suggestCharts', [key], {});\n",
              "      }\n",
              "    </script>\n",
              "\n",
              "      <script>\n",
              "\n",
              "function displayQuickchartButton(domScope) {\n",
              "  let quickchartButtonEl =\n",
              "    domScope.querySelector('#df-f717be0a-bace-49f9-8fd0-7cdb1cada664 button.colab-df-quickchart');\n",
              "  quickchartButtonEl.style.display =\n",
              "    google.colab.kernel.accessAllowed ? 'block' : 'none';\n",
              "}\n",
              "\n",
              "        displayQuickchartButton(document);\n",
              "      </script>\n",
              "      <style>\n",
              "    .colab-df-container {\n",
              "      display:flex;\n",
              "      flex-wrap:wrap;\n",
              "      gap: 12px;\n",
              "    }\n",
              "\n",
              "    .colab-df-convert {\n",
              "      background-color: #E8F0FE;\n",
              "      border: none;\n",
              "      border-radius: 50%;\n",
              "      cursor: pointer;\n",
              "      display: none;\n",
              "      fill: #1967D2;\n",
              "      height: 32px;\n",
              "      padding: 0 0 0 0;\n",
              "      width: 32px;\n",
              "    }\n",
              "\n",
              "    .colab-df-convert:hover {\n",
              "      background-color: #E2EBFA;\n",
              "      box-shadow: 0px 1px 2px rgba(60, 64, 67, 0.3), 0px 1px 3px 1px rgba(60, 64, 67, 0.15);\n",
              "      fill: #174EA6;\n",
              "    }\n",
              "\n",
              "    [theme=dark] .colab-df-convert {\n",
              "      background-color: #3B4455;\n",
              "      fill: #D2E3FC;\n",
              "    }\n",
              "\n",
              "    [theme=dark] .colab-df-convert:hover {\n",
              "      background-color: #434B5C;\n",
              "      box-shadow: 0px 1px 3px 1px rgba(0, 0, 0, 0.15);\n",
              "      filter: drop-shadow(0px 1px 2px rgba(0, 0, 0, 0.3));\n",
              "      fill: #FFFFFF;\n",
              "    }\n",
              "  </style>\n",
              "\n",
              "      <script>\n",
              "        const buttonEl =\n",
              "          document.querySelector('#df-73a27c10-a211-4611-b183-a71cedfe8b50 button.colab-df-convert');\n",
              "        buttonEl.style.display =\n",
              "          google.colab.kernel.accessAllowed ? 'block' : 'none';\n",
              "\n",
              "        async function convertToInteractive(key) {\n",
              "          const element = document.querySelector('#df-73a27c10-a211-4611-b183-a71cedfe8b50');\n",
              "          const dataTable =\n",
              "            await google.colab.kernel.invokeFunction('convertToInteractive',\n",
              "                                                     [key], {});\n",
              "          if (!dataTable) return;\n",
              "\n",
              "          const docLinkHtml = 'Like what you see? Visit the ' +\n",
              "            '<a target=\"_blank\" href=https://colab.research.google.com/notebooks/data_table.ipynb>data table notebook</a>'\n",
              "            + ' to learn more about interactive tables.';\n",
              "          element.innerHTML = '';\n",
              "          dataTable['output_type'] = 'display_data';\n",
              "          await google.colab.output.renderOutput(dataTable, element);\n",
              "          const docLink = document.createElement('div');\n",
              "          docLink.innerHTML = docLinkHtml;\n",
              "          element.appendChild(docLink);\n",
              "        }\n",
              "      </script>\n",
              "    </div>\n",
              "  </div>\n"
            ]
          },
          "metadata": {},
          "execution_count": 80
        }
      ]
    },
    {
      "cell_type": "code",
      "source": [
        "na_columns = loan_data.isna().sum().loc[lambda x : x > 0]"
      ],
      "metadata": {
        "id": "orLsx3hffWPr"
      },
      "execution_count": 81,
      "outputs": []
    },
    {
      "cell_type": "markdown",
      "source": [
        "# Data cleaning"
      ],
      "metadata": {
        "id": "gdO-zCM2FuTH"
      }
    },
    {
      "cell_type": "markdown",
      "source": [
        "Looking at the data, some columns seems to have NA values. Lets check how many columns has all null values and delete them"
      ],
      "metadata": {
        "id": "PnA-l09gFRxM"
      }
    },
    {
      "cell_type": "code",
      "source": [
        "len(na_columns.loc[lambda x : x == 39717])"
      ],
      "metadata": {
        "id": "ztvAsz_Do1eG",
        "colab": {
          "base_uri": "https://localhost:8080/"
        },
        "outputId": "56c9d31c-1350-49b1-c21e-fc6a41ebb6d3"
      },
      "execution_count": 82,
      "outputs": [
        {
          "output_type": "execute_result",
          "data": {
            "text/plain": [
              "54"
            ]
          },
          "metadata": {},
          "execution_count": 82
        }
      ]
    },
    {
      "cell_type": "code",
      "source": [
        "with pd.option_context('display.max_rows', None, 'display.max_columns', None):\n",
        "    print(na_columns.sort_values(ascending=True))"
      ],
      "metadata": {
        "id": "DPtOV7-4g8FC",
        "colab": {
          "base_uri": "https://localhost:8080/"
        },
        "outputId": "7455caa8-c505-495e-ac02-51de12cb241d"
      },
      "execution_count": 83,
      "outputs": [
        {
          "output_type": "stream",
          "name": "stdout",
          "text": [
            "last_credit_pull_d                    2\n",
            "title                                11\n",
            "tax_liens                            39\n",
            "revol_util                           50\n",
            "collections_12_mths_ex_med           56\n",
            "chargeoff_within_12_mths             56\n",
            "last_pymnt_d                         71\n",
            "pub_rec_bankruptcies                697\n",
            "emp_length                         1075\n",
            "emp_title                          2459\n",
            "desc                              12940\n",
            "mths_since_last_delinq            25682\n",
            "mths_since_last_record            36931\n",
            "next_pymnt_d                      38577\n",
            "num_actv_bc_tl                    39717\n",
            "num_actv_rev_tl                   39717\n",
            "num_bc_sats                       39717\n",
            "num_accts_ever_120_pd             39717\n",
            "mort_acc                          39717\n",
            "mths_since_recent_inq             39717\n",
            "mths_since_recent_bc_dlq          39717\n",
            "mths_since_recent_bc              39717\n",
            "num_bc_tl                         39717\n",
            "mths_since_recent_revol_delinq    39717\n",
            "num_il_tl                         39717\n",
            "num_tl_30dpd                      39717\n",
            "num_rev_accts                     39717\n",
            "num_rev_tl_bal_gt_0               39717\n",
            "num_sats                          39717\n",
            "num_tl_120dpd_2m                  39717\n",
            "mo_sin_rcnt_tl                    39717\n",
            "num_tl_90g_dpd_24m                39717\n",
            "num_tl_op_past_12m                39717\n",
            "pct_tl_nvr_dlq                    39717\n",
            "percent_bc_gt_75                  39717\n",
            "tot_hi_cred_lim                   39717\n",
            "total_bal_ex_mort                 39717\n",
            "num_op_rev_tl                     39717\n",
            "mo_sin_rcnt_rev_tl_op             39717\n",
            "avg_cur_bal                       39717\n",
            "mo_sin_old_il_acct                39717\n",
            "mths_since_last_major_derog       39717\n",
            "annual_inc_joint                  39717\n",
            "dti_joint                         39717\n",
            "verification_status_joint         39717\n",
            "tot_coll_amt                      39717\n",
            "tot_cur_bal                       39717\n",
            "open_acc_6m                       39717\n",
            "open_il_6m                        39717\n",
            "open_il_12m                       39717\n",
            "open_il_24m                       39717\n",
            "mths_since_rcnt_il                39717\n",
            "total_bal_il                      39717\n",
            "il_util                           39717\n",
            "open_rv_12m                       39717\n",
            "open_rv_24m                       39717\n",
            "max_bal_bc                        39717\n",
            "all_util                          39717\n",
            "total_rev_hi_lim                  39717\n",
            "inq_fi                            39717\n",
            "total_cu_tl                       39717\n",
            "inq_last_12m                      39717\n",
            "acc_open_past_24mths              39717\n",
            "total_bc_limit                    39717\n",
            "bc_open_to_buy                    39717\n",
            "bc_util                           39717\n",
            "mo_sin_old_rev_tl_op              39717\n",
            "total_il_high_credit_limit        39717\n",
            "dtype: int64\n"
          ]
        }
      ]
    },
    {
      "cell_type": "code",
      "source": [
        "loan_data.shape"
      ],
      "metadata": {
        "id": "I92RB24Mf3Nh",
        "colab": {
          "base_uri": "https://localhost:8080/"
        },
        "outputId": "cf3e3407-47d0-4362-fade-19e650304442"
      },
      "execution_count": 84,
      "outputs": [
        {
          "output_type": "execute_result",
          "data": {
            "text/plain": [
              "(39717, 111)"
            ]
          },
          "metadata": {},
          "execution_count": 84
        }
      ]
    },
    {
      "cell_type": "markdown",
      "source": [
        "**Remove columns which has all null values**"
      ],
      "metadata": {
        "id": "2ZX_C5O6tcbG"
      }
    },
    {
      "cell_type": "code",
      "source": [
        "loan_data = loan_data.dropna(how='all',axis=1)\n",
        "loan_data.shape"
      ],
      "metadata": {
        "id": "cqSs_XWdi_qL",
        "colab": {
          "base_uri": "https://localhost:8080/"
        },
        "outputId": "ddcce11a-7e2b-4a6a-81c9-dca868886cab"
      },
      "execution_count": 85,
      "outputs": [
        {
          "output_type": "execute_result",
          "data": {
            "text/plain": [
              "(39717, 57)"
            ]
          },
          "metadata": {},
          "execution_count": 85
        }
      ]
    },
    {
      "cell_type": "code",
      "source": [
        "loan_data.isna().sum().loc[lambda x : x > 0]"
      ],
      "metadata": {
        "id": "CexZgac6klEN",
        "colab": {
          "base_uri": "https://localhost:8080/"
        },
        "outputId": "fd3081de-fe4a-4123-cb33-68bcecd461f5"
      },
      "execution_count": 86,
      "outputs": [
        {
          "output_type": "execute_result",
          "data": {
            "text/plain": [
              "emp_title                      2459\n",
              "emp_length                     1075\n",
              "desc                          12940\n",
              "title                            11\n",
              "mths_since_last_delinq        25682\n",
              "mths_since_last_record        36931\n",
              "revol_util                       50\n",
              "last_pymnt_d                     71\n",
              "next_pymnt_d                  38577\n",
              "last_credit_pull_d                2\n",
              "collections_12_mths_ex_med       56\n",
              "chargeoff_within_12_mths         56\n",
              "pub_rec_bankruptcies            697\n",
              "tax_liens                        39\n",
              "dtype: int64"
            ]
          },
          "metadata": {},
          "execution_count": 86
        }
      ]
    },
    {
      "cell_type": "markdown",
      "source": [
        "**Analysing emp_title column. fill the empty values with empty space**"
      ],
      "metadata": {
        "id": "Gd01ixWrGAux"
      }
    },
    {
      "cell_type": "code",
      "source": [
        "loan_data['emp_title'].info()"
      ],
      "metadata": {
        "id": "P4BBTJzT6PGJ",
        "colab": {
          "base_uri": "https://localhost:8080/"
        },
        "outputId": "b4812564-363f-448b-a85c-ea997aa936d7"
      },
      "execution_count": 87,
      "outputs": [
        {
          "output_type": "stream",
          "name": "stdout",
          "text": [
            "<class 'pandas.core.series.Series'>\n",
            "RangeIndex: 39717 entries, 0 to 39716\n",
            "Series name: emp_title\n",
            "Non-Null Count  Dtype \n",
            "--------------  ----- \n",
            "37258 non-null  object\n",
            "dtypes: object(1)\n",
            "memory usage: 310.4+ KB\n"
          ]
        }
      ]
    },
    {
      "cell_type": "code",
      "source": [
        "loan_data['emp_title'].value_counts()"
      ],
      "metadata": {
        "id": "nCHq9qU07eYQ",
        "colab": {
          "base_uri": "https://localhost:8080/"
        },
        "outputId": "899f1470-6f00-46a8-e19e-2297026436e6"
      },
      "execution_count": 88,
      "outputs": [
        {
          "output_type": "execute_result",
          "data": {
            "text/plain": [
              "US Army                              134\n",
              "Bank of America                      109\n",
              "IBM                                   66\n",
              "AT&T                                  59\n",
              "Kaiser Permanente                     56\n",
              "                                    ... \n",
              "Community College of Philadelphia      1\n",
              "AMEC                                   1\n",
              "lee county sheriff                     1\n",
              "Bacon County Board of Education        1\n",
              "Evergreen Center                       1\n",
              "Name: emp_title, Length: 28820, dtype: int64"
            ]
          },
          "metadata": {},
          "execution_count": 88
        }
      ]
    },
    {
      "cell_type": "code",
      "source": [
        "loan_data['emp_title'] = loan_data['emp_title'].fillna('')"
      ],
      "metadata": {
        "id": "_wObgknh78_s"
      },
      "execution_count": 89,
      "outputs": []
    },
    {
      "cell_type": "markdown",
      "source": [
        "**Converting the column type to string**"
      ],
      "metadata": {
        "id": "uZlcSDUwGKu4"
      }
    },
    {
      "cell_type": "code",
      "source": [
        "loan_data['emp_title'] = loan_data['emp_title'].astype('string')\n",
        "loan_data['emp_title'].info()"
      ],
      "metadata": {
        "id": "aTo-EYU38Thn",
        "colab": {
          "base_uri": "https://localhost:8080/"
        },
        "outputId": "93bfb74a-d3a4-4b4a-d6b1-831b53ea3820"
      },
      "execution_count": 90,
      "outputs": [
        {
          "output_type": "stream",
          "name": "stdout",
          "text": [
            "<class 'pandas.core.series.Series'>\n",
            "RangeIndex: 39717 entries, 0 to 39716\n",
            "Series name: emp_title\n",
            "Non-Null Count  Dtype \n",
            "--------------  ----- \n",
            "39717 non-null  string\n",
            "dtypes: string(1)\n",
            "memory usage: 310.4 KB\n"
          ]
        }
      ]
    },
    {
      "cell_type": "markdown",
      "source": [
        "**Int_rate column has % in text. We need to remove it**"
      ],
      "metadata": {
        "id": "LubL9ACMuPJ6"
      }
    },
    {
      "cell_type": "code",
      "source": [
        "loan_data['int_rate'].apply(lambda x : x.replace('%',''))"
      ],
      "metadata": {
        "id": "Et3j_ana9Jqe",
        "colab": {
          "base_uri": "https://localhost:8080/"
        },
        "outputId": "e9d507a9-0188-4259-89e7-8df2434d8ce0"
      },
      "execution_count": 91,
      "outputs": [
        {
          "output_type": "execute_result",
          "data": {
            "text/plain": [
              "0        10.65\n",
              "1        15.27\n",
              "2        15.96\n",
              "3        13.49\n",
              "4        12.69\n",
              "         ...  \n",
              "39712     8.07\n",
              "39713    10.28\n",
              "39714     8.07\n",
              "39715     7.43\n",
              "39716    13.75\n",
              "Name: int_rate, Length: 39717, dtype: object"
            ]
          },
          "metadata": {},
          "execution_count": 91
        }
      ]
    },
    {
      "cell_type": "code",
      "source": [
        "loan_data['int_rate'] = loan_data['int_rate'].apply(lambda x : x.replace('%',''))"
      ],
      "metadata": {
        "id": "RkCeEjJdvMRq"
      },
      "execution_count": 92,
      "outputs": []
    },
    {
      "cell_type": "markdown",
      "source": [
        "**Set int_rate column dtype to float**"
      ],
      "metadata": {
        "id": "dVpirZKDvusa"
      }
    },
    {
      "cell_type": "code",
      "source": [
        "loan_data['int_rate'] = loan_data['int_rate'].astype('float')\n",
        "loan_data['int_rate'].info()"
      ],
      "metadata": {
        "id": "ERfChKjVv050",
        "colab": {
          "base_uri": "https://localhost:8080/"
        },
        "outputId": "f0bb1145-e30c-4342-dbc9-1e70c8ba5522"
      },
      "execution_count": 93,
      "outputs": [
        {
          "output_type": "stream",
          "name": "stdout",
          "text": [
            "<class 'pandas.core.series.Series'>\n",
            "RangeIndex: 39717 entries, 0 to 39716\n",
            "Series name: int_rate\n",
            "Non-Null Count  Dtype  \n",
            "--------------  -----  \n",
            "39717 non-null  float64\n",
            "dtypes: float64(1)\n",
            "memory usage: 310.4 KB\n"
          ]
        }
      ]
    },
    {
      "cell_type": "markdown",
      "source": [
        "**It seems pymnt_plan has only one value 'n'. Lets check**"
      ],
      "metadata": {
        "id": "1ExvoOqqxIv9"
      }
    },
    {
      "cell_type": "code",
      "source": [
        "loan_data['pymnt_plan'].value_counts()"
      ],
      "metadata": {
        "id": "b1_MnE93xIPp",
        "colab": {
          "base_uri": "https://localhost:8080/"
        },
        "outputId": "09878253-f1f3-45e5-f94f-91237584ab15"
      },
      "execution_count": 94,
      "outputs": [
        {
          "output_type": "execute_result",
          "data": {
            "text/plain": [
              "n    39717\n",
              "Name: pymnt_plan, dtype: int64"
            ]
          },
          "metadata": {},
          "execution_count": 94
        }
      ]
    },
    {
      "cell_type": "markdown",
      "source": [
        "**Removing pymnt_plan column, since it will not help us in analysing data**"
      ],
      "metadata": {
        "id": "F6B-IR2bx9qq"
      }
    },
    {
      "cell_type": "code",
      "source": [
        "loan_data = loan_data.drop('pymnt_plan',axis=1)"
      ],
      "metadata": {
        "id": "Z5zzXvW3xZ-n"
      },
      "execution_count": 95,
      "outputs": []
    },
    {
      "cell_type": "code",
      "source": [
        "loan_data.columns"
      ],
      "metadata": {
        "id": "yPh71YiLyGZD",
        "colab": {
          "base_uri": "https://localhost:8080/"
        },
        "outputId": "8d779948-e89c-41aa-d886-95a79596bb11"
      },
      "execution_count": 96,
      "outputs": [
        {
          "output_type": "execute_result",
          "data": {
            "text/plain": [
              "Index(['id', 'member_id', 'loan_amnt', 'funded_amnt', 'funded_amnt_inv',\n",
              "       'term', 'int_rate', 'installment', 'grade', 'sub_grade', 'emp_title',\n",
              "       'emp_length', 'home_ownership', 'annual_inc', 'verification_status',\n",
              "       'issue_d', 'loan_status', 'url', 'desc', 'purpose', 'title', 'zip_code',\n",
              "       'addr_state', 'dti', 'delinq_2yrs', 'earliest_cr_line',\n",
              "       'inq_last_6mths', 'mths_since_last_delinq', 'mths_since_last_record',\n",
              "       'open_acc', 'pub_rec', 'revol_bal', 'revol_util', 'total_acc',\n",
              "       'initial_list_status', 'out_prncp', 'out_prncp_inv', 'total_pymnt',\n",
              "       'total_pymnt_inv', 'total_rec_prncp', 'total_rec_int',\n",
              "       'total_rec_late_fee', 'recoveries', 'collection_recovery_fee',\n",
              "       'last_pymnt_d', 'last_pymnt_amnt', 'next_pymnt_d', 'last_credit_pull_d',\n",
              "       'collections_12_mths_ex_med', 'policy_code', 'application_type',\n",
              "       'acc_now_delinq', 'chargeoff_within_12_mths', 'delinq_amnt',\n",
              "       'pub_rec_bankruptcies', 'tax_liens'],\n",
              "      dtype='object')"
            ]
          },
          "metadata": {},
          "execution_count": 96
        }
      ]
    },
    {
      "cell_type": "markdown",
      "source": [
        "**url column just contains the https://lendingclub.com/browse/loanDetail.action?loan_id=[id]. We can remove this**"
      ],
      "metadata": {
        "id": "HwEbn_v42GsL"
      }
    },
    {
      "cell_type": "code",
      "source": [
        "loan_data = loan_data.drop('url',axis=1)"
      ],
      "metadata": {
        "id": "w501T9ae17L7"
      },
      "execution_count": 97,
      "outputs": []
    },
    {
      "cell_type": "code",
      "source": [
        "loan_data.shape"
      ],
      "metadata": {
        "id": "67jCCU0x2YDm",
        "colab": {
          "base_uri": "https://localhost:8080/"
        },
        "outputId": "cd5df109-61a5-4eec-ec68-a172e65e612f"
      },
      "execution_count": 98,
      "outputs": [
        {
          "output_type": "execute_result",
          "data": {
            "text/plain": [
              "(39717, 55)"
            ]
          },
          "metadata": {},
          "execution_count": 98
        }
      ]
    },
    {
      "cell_type": "markdown",
      "source": [
        "**initial_list_status has only one value f. We can remove this column too**"
      ],
      "metadata": {
        "id": "UhMzcLJu3W-1"
      }
    },
    {
      "cell_type": "code",
      "source": [
        "loan_data['initial_list_status'].value_counts()"
      ],
      "metadata": {
        "id": "dzFiRtN33vGW",
        "colab": {
          "base_uri": "https://localhost:8080/"
        },
        "outputId": "a1794293-327b-4452-fa5a-c42bdbdf8a37"
      },
      "execution_count": 99,
      "outputs": [
        {
          "output_type": "execute_result",
          "data": {
            "text/plain": [
              "f    39717\n",
              "Name: initial_list_status, dtype: int64"
            ]
          },
          "metadata": {},
          "execution_count": 99
        }
      ]
    },
    {
      "cell_type": "code",
      "source": [
        "loan_data = loan_data.drop('initial_list_status',axis=1)"
      ],
      "metadata": {
        "id": "KPr2q1KU3SRX"
      },
      "execution_count": 100,
      "outputs": []
    },
    {
      "cell_type": "markdown",
      "source": [
        "**Seems policy_code has only value 1. Lets check, if true lets delete it**"
      ],
      "metadata": {
        "id": "EXCDwShd4aDa"
      }
    },
    {
      "cell_type": "code",
      "source": [
        "loan_data['policy_code'].value_counts()"
      ],
      "metadata": {
        "id": "sBHeDYW34eDV",
        "colab": {
          "base_uri": "https://localhost:8080/"
        },
        "outputId": "5109f4d5-caba-44b4-b2d7-50e6b51e28f0"
      },
      "execution_count": 101,
      "outputs": [
        {
          "output_type": "execute_result",
          "data": {
            "text/plain": [
              "1    39717\n",
              "Name: policy_code, dtype: int64"
            ]
          },
          "metadata": {},
          "execution_count": 101
        }
      ]
    },
    {
      "cell_type": "code",
      "source": [
        "loan_data = loan_data.drop('policy_code',axis=1)"
      ],
      "metadata": {
        "id": "THOWqtzx4ogt"
      },
      "execution_count": 102,
      "outputs": []
    },
    {
      "cell_type": "markdown",
      "source": [
        "**collections_12_mths_ex_med column has only 0 or NA values. We can remove this column**"
      ],
      "metadata": {
        "id": "Rz27YpCw4nzd"
      }
    },
    {
      "cell_type": "code",
      "source": [
        "loan_data['collections_12_mths_ex_med'].value_counts()"
      ],
      "metadata": {
        "id": "BtsA2iPy47tG",
        "colab": {
          "base_uri": "https://localhost:8080/"
        },
        "outputId": "22c642fb-e8b0-4276-9dc2-640e899db712"
      },
      "execution_count": 103,
      "outputs": [
        {
          "output_type": "execute_result",
          "data": {
            "text/plain": [
              "0.0    39661\n",
              "Name: collections_12_mths_ex_med, dtype: int64"
            ]
          },
          "metadata": {},
          "execution_count": 103
        }
      ]
    },
    {
      "cell_type": "code",
      "source": [
        "loan_data = loan_data.drop('collections_12_mths_ex_med',axis=1)"
      ],
      "metadata": {
        "id": "lcuMUlLC5CE3"
      },
      "execution_count": 104,
      "outputs": []
    },
    {
      "cell_type": "markdown",
      "source": [
        "**application_type has only one value INDIVIDUAL. We can remove this column**"
      ],
      "metadata": {
        "id": "mbcHP2T45O-n"
      }
    },
    {
      "cell_type": "code",
      "source": [
        "loan_data['application_type'].value_counts()"
      ],
      "metadata": {
        "id": "rj4QX8TO5OsL",
        "colab": {
          "base_uri": "https://localhost:8080/"
        },
        "outputId": "056c111b-1dc5-42de-fdf0-ae253e2d22b7"
      },
      "execution_count": 105,
      "outputs": [
        {
          "output_type": "execute_result",
          "data": {
            "text/plain": [
              "INDIVIDUAL    39717\n",
              "Name: application_type, dtype: int64"
            ]
          },
          "metadata": {},
          "execution_count": 105
        }
      ]
    },
    {
      "cell_type": "code",
      "source": [
        "loan_data = loan_data.drop('application_type',axis=1)"
      ],
      "metadata": {
        "id": "jgBcXAgy5a58"
      },
      "execution_count": 106,
      "outputs": []
    },
    {
      "cell_type": "code",
      "source": [
        "loan_data.shape"
      ],
      "metadata": {
        "id": "J4yapJ_W5ece",
        "colab": {
          "base_uri": "https://localhost:8080/"
        },
        "outputId": "d5d98acf-ecde-4efa-fcfb-999ba487c567"
      },
      "execution_count": 107,
      "outputs": [
        {
          "output_type": "execute_result",
          "data": {
            "text/plain": [
              "(39717, 51)"
            ]
          },
          "metadata": {},
          "execution_count": 107
        }
      ]
    },
    {
      "cell_type": "markdown",
      "source": [
        "**acc_now_delinq column has only one value 0. We can remove this column too.**"
      ],
      "metadata": {
        "id": "SSVUszlTHL3A"
      }
    },
    {
      "cell_type": "code",
      "source": [
        "loan_data['acc_now_delinq'].value_counts()"
      ],
      "metadata": {
        "id": "Q1fe5Lll5sxW",
        "colab": {
          "base_uri": "https://localhost:8080/"
        },
        "outputId": "0b433fe6-d9b7-43f0-c652-4779f8990e33"
      },
      "execution_count": 108,
      "outputs": [
        {
          "output_type": "execute_result",
          "data": {
            "text/plain": [
              "0    39717\n",
              "Name: acc_now_delinq, dtype: int64"
            ]
          },
          "metadata": {},
          "execution_count": 108
        }
      ]
    },
    {
      "cell_type": "code",
      "source": [
        "loan_data = loan_data.drop('acc_now_delinq',axis=1)"
      ],
      "metadata": {
        "id": "IJox3Kjn6IHf"
      },
      "execution_count": 109,
      "outputs": []
    },
    {
      "cell_type": "markdown",
      "source": [
        "**delinq_amnt column has only one value 0. We can remove this column too.**"
      ],
      "metadata": {
        "id": "ianl8_FK7YQo"
      }
    },
    {
      "cell_type": "code",
      "source": [
        "loan_data['delinq_amnt'].value_counts()"
      ],
      "metadata": {
        "id": "mfWYV7g97LhY",
        "colab": {
          "base_uri": "https://localhost:8080/"
        },
        "outputId": "c49221d5-cdf7-4ad1-8813-db47e05977ef"
      },
      "execution_count": 110,
      "outputs": [
        {
          "output_type": "execute_result",
          "data": {
            "text/plain": [
              "0    39717\n",
              "Name: delinq_amnt, dtype: int64"
            ]
          },
          "metadata": {},
          "execution_count": 110
        }
      ]
    },
    {
      "cell_type": "code",
      "source": [
        "loan_data = loan_data.drop('delinq_amnt',axis=1)"
      ],
      "metadata": {
        "id": "e_eek0kI7VKC"
      },
      "execution_count": 111,
      "outputs": []
    },
    {
      "cell_type": "markdown",
      "source": [
        "**term column has values '36 months' and '60 months'. We can remove ' months' and convert the column type to integer.**"
      ],
      "metadata": {
        "id": "Txp381XkHhA4"
      }
    },
    {
      "cell_type": "code",
      "source": [
        "loan_data['term'].value_counts()"
      ],
      "metadata": {
        "id": "Ve7usVDPpAgB",
        "colab": {
          "base_uri": "https://localhost:8080/"
        },
        "outputId": "32a01baf-f226-4e0b-d8de-dfb6a48fdf08"
      },
      "execution_count": 112,
      "outputs": [
        {
          "output_type": "execute_result",
          "data": {
            "text/plain": [
              " 36 months    29096\n",
              " 60 months    10621\n",
              "Name: term, dtype: int64"
            ]
          },
          "metadata": {},
          "execution_count": 112
        }
      ]
    },
    {
      "cell_type": "code",
      "source": [
        "loan_data['term'] = loan_data['term'].apply(lambda x : x.replace(' months',''))"
      ],
      "metadata": {
        "id": "uvchZwBLohtg"
      },
      "execution_count": 113,
      "outputs": []
    },
    {
      "cell_type": "code",
      "source": [
        "loan_data['term'].describe()"
      ],
      "metadata": {
        "colab": {
          "base_uri": "https://localhost:8080/"
        },
        "id": "RgzrbQEEKI4f",
        "outputId": "ab527632-74af-4707-bee9-1ee020bdcc1a"
      },
      "execution_count": 114,
      "outputs": [
        {
          "output_type": "execute_result",
          "data": {
            "text/plain": [
              "count     39717\n",
              "unique        2\n",
              "top          36\n",
              "freq      29096\n",
              "Name: term, dtype: object"
            ]
          },
          "metadata": {},
          "execution_count": 114
        }
      ]
    },
    {
      "cell_type": "markdown",
      "source": [
        "**All id and member_id values are unique, these columns are not useful for us in the analysis**"
      ],
      "metadata": {
        "id": "b8CQb4kiJcx6"
      }
    },
    {
      "cell_type": "code",
      "source": [
        "len(loan_data.id.unique())"
      ],
      "metadata": {
        "colab": {
          "base_uri": "https://localhost:8080/"
        },
        "id": "m66agX9LI586",
        "outputId": "d9db6e2e-4f32-4760-bd5e-5521d57a6b8f"
      },
      "execution_count": 115,
      "outputs": [
        {
          "output_type": "execute_result",
          "data": {
            "text/plain": [
              "39717"
            ]
          },
          "metadata": {},
          "execution_count": 115
        }
      ]
    },
    {
      "cell_type": "code",
      "source": [
        "len(loan_data.member_id.unique())"
      ],
      "metadata": {
        "colab": {
          "base_uri": "https://localhost:8080/"
        },
        "id": "PXoLEJq3JYvk",
        "outputId": "41dcf0fe-c12e-427b-f108-2fced2dd8595"
      },
      "execution_count": 116,
      "outputs": [
        {
          "output_type": "execute_result",
          "data": {
            "text/plain": [
              "39717"
            ]
          },
          "metadata": {},
          "execution_count": 116
        }
      ]
    },
    {
      "cell_type": "code",
      "source": [
        "loan_data = loan_data.drop(['id','member_id'],axis=1)"
      ],
      "metadata": {
        "id": "B10QlLQIJwHq"
      },
      "execution_count": 117,
      "outputs": []
    },
    {
      "cell_type": "markdown",
      "source": [
        "**tax_liens has only a value of 0, so we can remove this column. Also, zip_code will not be useful in our analysis. we can dro this column**"
      ],
      "metadata": {
        "id": "Qdtc561HMHW0"
      }
    },
    {
      "cell_type": "code",
      "source": [
        "loan_data['tax_liens'].value_counts()"
      ],
      "metadata": {
        "colab": {
          "base_uri": "https://localhost:8080/"
        },
        "id": "OvmsZ7JvMIHu",
        "outputId": "163f9b5e-b4c3-47d1-c28c-6dc44291259c"
      },
      "execution_count": 118,
      "outputs": [
        {
          "output_type": "execute_result",
          "data": {
            "text/plain": [
              "0.0    39678\n",
              "Name: tax_liens, dtype: int64"
            ]
          },
          "metadata": {},
          "execution_count": 118
        }
      ]
    },
    {
      "cell_type": "code",
      "source": [
        "loan_data = loan_data.drop(['tax_liens','zip_code'],axis=1)"
      ],
      "metadata": {
        "id": "7u4iS1mcMWIO"
      },
      "execution_count": 119,
      "outputs": []
    },
    {
      "cell_type": "code",
      "source": [
        "loan_data.columns"
      ],
      "metadata": {
        "colab": {
          "base_uri": "https://localhost:8080/"
        },
        "id": "28JuWVxgI_q3",
        "outputId": "df2a3791-fbda-485f-a239-df0e1b16c7dd"
      },
      "execution_count": 120,
      "outputs": [
        {
          "output_type": "execute_result",
          "data": {
            "text/plain": [
              "Index(['loan_amnt', 'funded_amnt', 'funded_amnt_inv', 'term', 'int_rate',\n",
              "       'installment', 'grade', 'sub_grade', 'emp_title', 'emp_length',\n",
              "       'home_ownership', 'annual_inc', 'verification_status', 'issue_d',\n",
              "       'loan_status', 'desc', 'purpose', 'title', 'addr_state', 'dti',\n",
              "       'delinq_2yrs', 'earliest_cr_line', 'inq_last_6mths',\n",
              "       'mths_since_last_delinq', 'mths_since_last_record', 'open_acc',\n",
              "       'pub_rec', 'revol_bal', 'revol_util', 'total_acc', 'out_prncp',\n",
              "       'out_prncp_inv', 'total_pymnt', 'total_pymnt_inv', 'total_rec_prncp',\n",
              "       'total_rec_int', 'total_rec_late_fee', 'recoveries',\n",
              "       'collection_recovery_fee', 'last_pymnt_d', 'last_pymnt_amnt',\n",
              "       'next_pymnt_d', 'last_credit_pull_d', 'chargeoff_within_12_mths',\n",
              "       'pub_rec_bankruptcies'],\n",
              "      dtype='object')"
            ]
          },
          "metadata": {},
          "execution_count": 120
        }
      ]
    },
    {
      "cell_type": "markdown",
      "source": [
        "Got to know of the DataFrame.var() which gives us the variation of the values in a column. This will help us in finding columns which only one value."
      ],
      "metadata": {
        "id": "YG_R6c1sNHI5"
      }
    },
    {
      "cell_type": "code",
      "source": [
        "loan_data.var()"
      ],
      "metadata": {
        "colab": {
          "base_uri": "https://localhost:8080/"
        },
        "id": "jsLkQ8clMcxd",
        "outputId": "d81feeec-c3cb-4834-acc8-ccfea323b414"
      },
      "execution_count": 121,
      "outputs": [
        {
          "output_type": "stream",
          "name": "stderr",
          "text": [
            "<ipython-input-121-29a7da735fb2>:1: FutureWarning: The default value of numeric_only in DataFrame.var is deprecated. In a future version, it will default to False. In addition, specifying 'numeric_only=None' is deprecated. Select only valid columns or specify the value of numeric_only to silence this warning.\n",
            "  loan_data.var()\n"
          ]
        },
        {
          "output_type": "execute_result",
          "data": {
            "text/plain": [
              "loan_amnt                   5.560194e+07\n",
              "funded_amnt                 5.165640e+07\n",
              "funded_amnt_inv             5.081481e+07\n",
              "int_rate                    1.387432e+01\n",
              "installment                 4.362871e+04\n",
              "annual_inc                  4.069645e+09\n",
              "dti                         4.460361e+01\n",
              "delinq_2yrs                 2.418786e-01\n",
              "inq_last_6mths              1.145369e+00\n",
              "mths_since_last_delinq      4.848830e+02\n",
              "mths_since_last_record      1.920414e+03\n",
              "open_acc                    1.936249e+01\n",
              "pub_rec                     5.626382e-02\n",
              "revol_bal                   2.523338e+08\n",
              "total_acc                   1.299990e+02\n",
              "out_prncp                   1.407547e+05\n",
              "out_prncp_inv               1.397447e+05\n",
              "total_pymnt                 8.175850e+07\n",
              "total_pymnt_inv             7.997139e+07\n",
              "total_rec_prncp             4.992160e+07\n",
              "total_rec_int               6.802248e+06\n",
              "total_rec_late_fee          5.314380e+01\n",
              "recoveries                  4.743694e+05\n",
              "collection_recovery_fee     2.210324e+04\n",
              "last_pymnt_amnt             1.977702e+07\n",
              "chargeoff_within_12_mths    0.000000e+00\n",
              "pub_rec_bankruptcies        4.174831e-02\n",
              "dtype: float64"
            ]
          },
          "metadata": {},
          "execution_count": 121
        }
      ]
    },
    {
      "cell_type": "markdown",
      "source": [
        "**chargeoff_within_12_mths has only 0 as value. We can remove this column**"
      ],
      "metadata": {
        "id": "R5hr0OgTPBi7"
      }
    },
    {
      "cell_type": "code",
      "source": [
        "loan_data = loan_data.drop(['chargeoff_within_12_mths'],axis=1)"
      ],
      "metadata": {
        "id": "9aJmv_HKPHzT"
      },
      "execution_count": 122,
      "outputs": []
    },
    {
      "cell_type": "code",
      "source": [
        "loan_data.shape"
      ],
      "metadata": {
        "id": "aRibEchfo6dw",
        "colab": {
          "base_uri": "https://localhost:8080/"
        },
        "outputId": "7ce118b5-1484-427b-fd39-82bde0b7d7cf"
      },
      "execution_count": 123,
      "outputs": [
        {
          "output_type": "execute_result",
          "data": {
            "text/plain": [
              "(39717, 44)"
            ]
          },
          "metadata": {},
          "execution_count": 123
        }
      ]
    },
    {
      "cell_type": "markdown",
      "source": [
        "**Even delinq_2yrs, pub_rec_bankruptcies and pub_rec has very low variance, we can remove these columns.**"
      ],
      "metadata": {
        "id": "dcOR_gNoRrAW"
      }
    },
    {
      "cell_type": "code",
      "source": [
        "loan_data['delinq_2yrs'].value_counts()"
      ],
      "metadata": {
        "colab": {
          "base_uri": "https://localhost:8080/"
        },
        "id": "rl_1qJykRbEo",
        "outputId": "459f0847-1cda-4d55-f93f-27e01b20ca40"
      },
      "execution_count": 124,
      "outputs": [
        {
          "output_type": "execute_result",
          "data": {
            "text/plain": [
              "0     35405\n",
              "1      3303\n",
              "2       687\n",
              "3       220\n",
              "4        62\n",
              "5        22\n",
              "6        10\n",
              "7         4\n",
              "8         2\n",
              "9         1\n",
              "11        1\n",
              "Name: delinq_2yrs, dtype: int64"
            ]
          },
          "metadata": {},
          "execution_count": 124
        }
      ]
    },
    {
      "cell_type": "code",
      "source": [
        "loan_data['pub_rec'].value_counts()"
      ],
      "metadata": {
        "colab": {
          "base_uri": "https://localhost:8080/"
        },
        "id": "dJ_vEWH0RjaM",
        "outputId": "96a03be8-bbb4-40ae-ce84-36853d198d30"
      },
      "execution_count": 125,
      "outputs": [
        {
          "output_type": "execute_result",
          "data": {
            "text/plain": [
              "0    37601\n",
              "1     2056\n",
              "2       51\n",
              "3        7\n",
              "4        2\n",
              "Name: pub_rec, dtype: int64"
            ]
          },
          "metadata": {},
          "execution_count": 125
        }
      ]
    },
    {
      "cell_type": "code",
      "source": [
        "loan_data['pub_rec_bankruptcies'].value_counts()"
      ],
      "metadata": {
        "colab": {
          "base_uri": "https://localhost:8080/"
        },
        "id": "ZuAhSbr3SP6R",
        "outputId": "bc474ffd-1d80-4008-8b63-0101d0574245"
      },
      "execution_count": 126,
      "outputs": [
        {
          "output_type": "execute_result",
          "data": {
            "text/plain": [
              "0.0    37339\n",
              "1.0     1674\n",
              "2.0        7\n",
              "Name: pub_rec_bankruptcies, dtype: int64"
            ]
          },
          "metadata": {},
          "execution_count": 126
        }
      ]
    },
    {
      "cell_type": "code",
      "source": [
        "loan_data = loan_data.drop(['delinq_2yrs','pub_rec','pub_rec_bankruptcies'],axis=1)"
      ],
      "metadata": {
        "id": "IvZCa4FFR2iC"
      },
      "execution_count": 127,
      "outputs": []
    },
    {
      "cell_type": "markdown",
      "source": [
        "desc has multi-line content. This will not help us in analysis. This can be deleted."
      ],
      "metadata": {
        "id": "sQmrTLp5Sqcp"
      }
    },
    {
      "cell_type": "code",
      "source": [
        "loan_data = loan_data.drop('desc',axis=1)"
      ],
      "metadata": {
        "id": "ENkP98f3S5Ug"
      },
      "execution_count": 128,
      "outputs": []
    },
    {
      "cell_type": "markdown",
      "source": [
        "title column has junk values. We can remove this column"
      ],
      "metadata": {
        "id": "_h50MwqTUMYt"
      }
    },
    {
      "cell_type": "code",
      "source": [
        "loan_data = loan_data.drop('title',axis=1)"
      ],
      "metadata": {
        "id": "7tjG_L9HUTj1"
      },
      "execution_count": 129,
      "outputs": []
    },
    {
      "cell_type": "code",
      "source": [
        "loan_data.columns"
      ],
      "metadata": {
        "colab": {
          "base_uri": "https://localhost:8080/"
        },
        "id": "23EEO0xlPT4C",
        "outputId": "50d084b1-3153-43cc-aaf1-9da07a6d228f"
      },
      "execution_count": 130,
      "outputs": [
        {
          "output_type": "execute_result",
          "data": {
            "text/plain": [
              "Index(['loan_amnt', 'funded_amnt', 'funded_amnt_inv', 'term', 'int_rate',\n",
              "       'installment', 'grade', 'sub_grade', 'emp_title', 'emp_length',\n",
              "       'home_ownership', 'annual_inc', 'verification_status', 'issue_d',\n",
              "       'loan_status', 'purpose', 'addr_state', 'dti', 'earliest_cr_line',\n",
              "       'inq_last_6mths', 'mths_since_last_delinq', 'mths_since_last_record',\n",
              "       'open_acc', 'revol_bal', 'revol_util', 'total_acc', 'out_prncp',\n",
              "       'out_prncp_inv', 'total_pymnt', 'total_pymnt_inv', 'total_rec_prncp',\n",
              "       'total_rec_int', 'total_rec_late_fee', 'recoveries',\n",
              "       'collection_recovery_fee', 'last_pymnt_d', 'last_pymnt_amnt',\n",
              "       'next_pymnt_d', 'last_credit_pull_d'],\n",
              "      dtype='object')"
            ]
          },
          "metadata": {},
          "execution_count": 130
        }
      ]
    },
    {
      "cell_type": "markdown",
      "source": [
        "Issue date doesn't correspond to customer's ability to pay loan. So we can remove earliest_cr_line and issue_d.\n",
        "\n",
        "*   issue_d - The month which the loan was funded. This info is not needed to issue future loans\n",
        "*   earliest_cr_line - The month the borrower's earliest reported credit line was opened\n",
        "\n",
        "\n",
        "\n",
        "### Post behavioural info\n",
        "\n",
        "Info in the below columns is related to the behaviour of the customer after taking the loan. This information is not useful for the analysis, since we cant predict the customer behaviour before giving the loan\n",
        "\n",
        "*   funded_amnt - The total amount committed to that loan at that point in time.\n",
        "*   funded_amnt_inv - The total amount committed by investors for that loan at that point in time.\n",
        "*   open_acc - This is no of pre-approved loans the customer has with the bank. This info is not needed, since if the customer already has preapproved loans, bank can already provide the loan.\n",
        "*   out_prncp - Remaining outstanding principal for total amount funded\n",
        "*   out_prncp_inv - This is similar info, not required for analysis\n",
        "*   recoveries - post charge off gross recovery\n",
        "*   revol_bal - Total credit revolving balance\n",
        "*   revol_util -Revolving line utilization rate, or the amount of credit the borrower is using relative to all available revolving credit.\n",
        "*   total_rec_int - Interest received to date\n",
        "*   total_rec_late_fee - Late fees received to date\n",
        "*   total_rec_prncp - Principal received to date\n",
        "*   next_pymnt_d - Next scheduled payment date\n",
        "*   inq_last_6mths - The number of inquiries in past 6 months (excluding auto and mortgage inquiries)\n",
        "*   last_pymnt_amnt - Last total payment amount received\n",
        "*   last_pymnt_d - Last month payment was received\n",
        "*   mths_since_last_delinq - The number of months since the borrower's last delinquency.\n",
        "*   collection_recovery_fee - post charge off collection fee\n",
        "*   dti - A ratio calculated using the borrower’s total monthly debt payments on the total debt obligations, excluding mortgage and the requested LC loan, divided by the borrower’s self-reported monthly income.\n",
        "\n",
        "\n"
      ],
      "metadata": {
        "id": "WPeLxtXYYBf4"
      }
    },
    {
      "cell_type": "code",
      "source": [
        "loan_data = loan_data.drop(['issue_d','earliest_cr_line','funded_amnt','funded_amnt_inv','open_acc','out_prncp','out_prncp_inv','recoveries','revol_bal','revol_util','total_rec_int','total_rec_late_fee','total_rec_prncp','next_pymnt_d','inq_last_6mths','last_pymnt_amnt','last_pymnt_d','mths_since_last_delinq','collection_recovery_fee','dti'],axis=1)"
      ],
      "metadata": {
        "id": "0ed8T37giyix"
      },
      "execution_count": 132,
      "outputs": []
    },
    {
      "cell_type": "code",
      "source": [
        "loan_data.shape"
      ],
      "metadata": {
        "colab": {
          "base_uri": "https://localhost:8080/"
        },
        "id": "OhKxKCJ-kNhI",
        "outputId": "9a6411f1-d132-47a0-9eda-97ef9669c483"
      },
      "execution_count": 135,
      "outputs": [
        {
          "output_type": "execute_result",
          "data": {
            "text/plain": [
              "(39717, 19)"
            ]
          },
          "metadata": {},
          "execution_count": 135
        }
      ]
    },
    {
      "cell_type": "markdown",
      "source": [
        "Coumns\n",
        "\n",
        "\n",
        "---\n",
        "\n",
        "\n",
        "\n",
        "Sequential\n",
        "loan_amnt, annual_inc, ( can be considered as categorical)\n",
        "\n",
        "\n",
        "---\n",
        "\n",
        "\n",
        "\n",
        "Categorical\n",
        "\n",
        "Ordered\n",
        "grade,sub_grade,emp_length,\n",
        "\n",
        "Un-ordered\n",
        "Term,emp_title,home_ownership,verification_status,purpose,addr_state"
      ],
      "metadata": {
        "id": "XTaNgQu2a4bm"
      }
    },
    {
      "cell_type": "code",
      "source": [],
      "metadata": {
        "id": "tFz6bNVgeZSH"
      },
      "execution_count": null,
      "outputs": []
    },
    {
      "cell_type": "code",
      "source": [
        "#plt.hist(x='annual_inc',bins=)\n",
        "#sns.boxplot(x='annual_inc',data=loan_data)\n",
        "loan_data.annual_inc.info()"
      ],
      "metadata": {
        "id": "YC7cTatxfVuC"
      },
      "execution_count": null,
      "outputs": []
    },
    {
      "cell_type": "code",
      "source": [
        "sns.histplot(x=loan_data['annual_inc'],binrange=(0,280000))"
      ],
      "metadata": {
        "id": "NgKBV2K9p-2C",
        "colab": {
          "base_uri": "https://localhost:8080/",
          "height": 467
        },
        "outputId": "c6b34f4f-231f-4841-f034-4381e9562d6b"
      },
      "execution_count": 137,
      "outputs": [
        {
          "output_type": "execute_result",
          "data": {
            "text/plain": [
              "<Axes: xlabel='annual_inc', ylabel='Count'>"
            ]
          },
          "metadata": {},
          "execution_count": 137
        },
        {
          "output_type": "display_data",
          "data": {
            "text/plain": [
              "<Figure size 640x480 with 1 Axes>"
            ],
            "image/png": "[encoded data removed]"
          },
          "metadata": {}
        }
      ]
    },
    {
      "cell_type": "code",
      "source": [
        "sns.countplot(x=loan_data['loan_status'])\n",
        "#loan_data[loan_data['int_rate'] > 22.5]['loan_status']"
      ],
      "metadata": {
        "id": "7Ka5nOmSrnty"
      },
      "execution_count": null,
      "outputs": []
    },
    {
      "cell_type": "code",
      "source": [
        "sns.countplot(x=loan_data['verification_status'])"
      ],
      "metadata": {
        "id": "hHw2y5KQjQ8V"
      },
      "execution_count": null,
      "outputs": []
    },
    {
      "cell_type": "code",
      "source": [
        "sns.boxplot(x=\"verification_status\", y=\"loan_amnt\",\n",
        "            hue=\"loan_status\", palette=[\"m\", \"g\",\"y\"],\n",
        "            data=loan_data)\n",
        "#sns.boxplot(data=loan_data,hue=['verification_status','loan_amnt'],x='loan_amnt')\n",
        "#loan_data.groupby(by='verification_status')['loan_status']"
      ],
      "metadata": {
        "id": "i3GwBiTDkYJS"
      },
      "execution_count": null,
      "outputs": []
    },
    {
      "cell_type": "code",
      "source": [
        "loan_data['annual_inc'].sort_values(ascending=False)"
      ],
      "metadata": {
        "id": "x6MHmUgWuPQO"
      },
      "execution_count": null,
      "outputs": []
    },
    {
      "cell_type": "code",
      "source": [
        "sns.displot(x='annual_inc',data=loan_data,binrange=(0,200000),bins=60)"
      ],
      "metadata": {
        "id": "1XyPVIrzvxSg"
      },
      "execution_count": null,
      "outputs": []
    },
    {
      "cell_type": "code",
      "source": [
        "sns.displot(data=loan_data,x='annual_inc',log_scale=True)"
      ],
      "metadata": {
        "id": "MIKS4qqGx5qT"
      },
      "execution_count": null,
      "outputs": []
    },
    {
      "cell_type": "code",
      "source": [
        "loan_data_inc_rem_outlier = loan_data[loan_data['annual_inc'] < 128000]\n",
        "loan_data_inc_rem_outlier.shape\n",
        "sns.boxplot(y=loan_data_inc_rem_outlier['annual_inc'],x=loan_data_inc_rem_outlier['loan_status'],hue=loan_data_inc_rem_outlier[''])"
      ],
      "metadata": {
        "id": "mOHAhxYdtm7T"
      },
      "execution_count": null,
      "outputs": []
    },
    {
      "cell_type": "code",
      "source": [
        "sns.catplot(data=loan_data,y=loan_data_inc_rem_outlier['grade'],x=loan_data_inc_rem_outlier['loan_status'],kind=)"
      ],
      "metadata": {
        "id": "zYWtp4zFx3H3"
      },
      "execution_count": null,
      "outputs": []
    }
  ]
}